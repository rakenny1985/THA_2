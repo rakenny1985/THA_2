{
  "nbformat": 4,
  "nbformat_minor": 0,
  "metadata": {
    "colab": {
      "name": "THA1 - Ryan Kenny",
      "version": "0.3.2",
      "provenance": [],
      "collapsed_sections": [],
      "include_colab_link": true
    },
    "kernelspec": {
      "name": "python3",
      "display_name": "Python 3"
    }
  },
  "cells": [
    {
      "cell_type": "markdown",
      "metadata": {
        "id": "view-in-github",
        "colab_type": "text"
      },
      "source": [
        "<a href=\"https://colab.research.google.com/github/rakenny1985/THA_2/blob/master/THA1_Ryan_Kenny.ipynb\" target=\"_parent\"><img src=\"https://colab.research.google.com/assets/colab-badge.svg\" alt=\"Open In Colab\"/></a>"
      ]
    },
    {
      "metadata": {
        "id": "IA6kuLyJ96g7",
        "colab_type": "code",
        "outputId": "3453afee-d56b-42f9-e59c-cba80658c7b7",
        "colab": {
          "base_uri": "https://localhost:8080/",
          "height": 598
        }
      },
      "cell_type": "code",
      "source": [
        "#importing pandas and reading my first file - US foreign aid by country and year- it's a big one!\n",
        "import pandas as pd\n",
        "data_aid = pd.read_excel('us_foreign_aid_country_original_noduplicates.xlsx')\n",
        "print(data_aid.head(3))\n",
        "\n",
        "print(data_aid.tail(3))\n",
        "\n",
        "print(data_aid.columns)\n",
        "print(list(data_aid))"
      ],
      "execution_count": 0,
      "outputs": [
        {
          "output_type": "stream",
          "text": [
            "   unique_id country_code country_name  region_id         region_name  \\\n",
            "0  Aruba1999          ABW        Aruba          6  Western Hemisphere   \n",
            "1  Aruba2000          ABW        Aruba          6  Western Hemisphere   \n",
            "2  Aruba2004          ABW        Aruba          6  Western Hemisphere   \n",
            "\n",
            "  income_group_acronym    income_group_name  transaction_type_id  \\\n",
            "0                  HIC  High Income Country                    2   \n",
            "1                  HIC  High Income Country                    2   \n",
            "2                  HIC  High Income Country                    2   \n",
            "\n",
            "  transaction_type_name  year  current_amount  constant_amount  \n",
            "0           Obligations  1999           19000            26904  \n",
            "1           Obligations  2000           50000            69357  \n",
            "2           Obligations  2004            1000             1277  \n",
            "          unique_id country_code country_name  region_id         region_name  \\\n",
            "14147  Zimbabwe2016          ZWE     Zimbabwe          5  Sub-Saharan Africa   \n",
            "14148  Zimbabwe2017          ZWE     Zimbabwe          5  Sub-Saharan Africa   \n",
            "14149  Zimbabwe2018          ZWE     Zimbabwe          5  Sub-Saharan Africa   \n",
            "\n",
            "      income_group_acronym   income_group_name  transaction_type_id  \\\n",
            "14147                  LIC  Low Income Country                    3   \n",
            "14148                  LIC  Low Income Country                    3   \n",
            "14149                  LIC  Low Income Country                    3   \n",
            "\n",
            "      transaction_type_name  year  current_amount  constant_amount  \n",
            "14147         Disbursements  2016       222623369        226450649  \n",
            "14148         Disbursements  2017       225696225        225696225  \n",
            "14149         Disbursements  2018       119170983        117333275  \n",
            "Index(['unique_id', 'country_code', 'country_name', 'region_id', 'region_name',\n",
            "       'income_group_acronym', 'income_group_name', 'transaction_type_id',\n",
            "       'transaction_type_name', 'year', 'current_amount', 'constant_amount'],\n",
            "      dtype='object')\n",
            "['unique_id', 'country_code', 'country_name', 'region_id', 'region_name', 'income_group_acronym', 'income_group_name', 'transaction_type_id', 'transaction_type_name', 'year', 'current_amount', 'constant_amount']\n"
          ],
          "name": "stdout"
        }
      ]
    },
    {
      "metadata": {
        "id": "GSDVq07Y-f2k",
        "colab_type": "code",
        "outputId": "0168d304-afe8-48e9-a1d6-59f4a6fa5daa",
        "colab": {
          "base_uri": "https://localhost:8080/",
          "height": 927
        }
      },
      "cell_type": "code",
      "source": [
        "#second file read - US president list\n",
        "data_prez = pd.read_excel(\"Presidents_Depaul.xls\")\n",
        "print(data_prez.head(10))\n",
        "\n",
        "print(data_prez.tail(10))\n",
        "\n",
        "print(data_prez.columns)\n",
        "print(list(data_prez))"
      ],
      "execution_count": 0,
      "outputs": [
        {
          "output_type": "stream",
          "text": [
            "            President  Year  Age at inauguration Political Party Occupation  \\\n",
            "0  Franklin Roosevelt  1933                 51.0        Democrat     Lawyer   \n",
            "1  Franklin Roosevelt  1934                 52.0        Democrat     Lawyer   \n",
            "2  Franklin Roosevelt  1935                 53.0        Democrat     Lawyer   \n",
            "3  Franklin Roosevelt  1936                 54.0        Democrat     Lawyer   \n",
            "4  Franklin Roosevelt  1937                 55.0        Democrat     Lawyer   \n",
            "5  Franklin Roosevelt  1938                 56.0        Democrat     Lawyer   \n",
            "6  Franklin Roosevelt  1939                 57.0        Democrat     Lawyer   \n",
            "7  Franklin Roosevelt  1940                 58.0        Democrat     Lawyer   \n",
            "8  Franklin Roosevelt  1941                 59.0        Democrat     Lawyer   \n",
            "9  Franklin Roosevelt  1942                 60.0        Democrat     Lawyer   \n",
            "\n",
            "   College  \n",
            "0  Harvard  \n",
            "1  Harvard  \n",
            "2  Harvard  \n",
            "3  Harvard  \n",
            "4  Harvard  \n",
            "5  Harvard  \n",
            "6  Harvard  \n",
            "7  Harvard  \n",
            "8  Harvard  \n",
            "9  Harvard  \n",
            "          President  Year  Age at inauguration Political Party   Occupation  \\\n",
            "77     Barack Obama  2010                 47.0        Democrat       Lawyer   \n",
            "78     Barack Obama  2011                 47.0        Democrat       Lawyer   \n",
            "79     Barack Obama  2012                 47.0        Democrat       Lawyer   \n",
            "80     Barack Obama  2013                 47.0        Democrat       Lawyer   \n",
            "81     Barack Obama  2014                 47.0        Democrat       Lawyer   \n",
            "82     Barack Obama  2015                 47.0        Democrat       Lawyer   \n",
            "83     Barack Obama  2016                 47.0        Democrat       Lawyer   \n",
            "84     Barack Obama  2017                 47.0        Democrat       Lawyer   \n",
            "85  Donald J. Trump  2018                 70.0      Republican  Businessman   \n",
            "86  Donald J. Trump  2019                 70.0      Republican  Businessman   \n",
            "\n",
            "                       College  \n",
            "77         Columbia University  \n",
            "78         Columbia University  \n",
            "79         Columbia University  \n",
            "80         Columbia University  \n",
            "81         Columbia University  \n",
            "82         Columbia University  \n",
            "83         Columbia University  \n",
            "84         Columbia University  \n",
            "85  University of Pennslyvania  \n",
            "86  University of Pennslyvania  \n",
            "Index(['President', 'Year', 'Age at inauguration', 'Political Party',\n",
            "       'Occupation', 'College'],\n",
            "      dtype='object')\n",
            "['President', 'Year', 'Age at inauguration', 'Political Party', 'Occupation', 'College']\n"
          ],
          "name": "stdout"
        }
      ]
    },
    {
      "metadata": {
        "id": "FrXuS31yUlwP",
        "colab_type": "code",
        "outputId": "f6e3237c-0e7a-428f-9e94-a7a857bb6cd3",
        "colab": {
          "base_uri": "https://localhost:8080/",
          "height": 1020
        }
      },
      "cell_type": "code",
      "source": [
        "\n",
        "#Third dataset - country political regime index by year - another large one!\n",
        "data_country = pd.read_excel(\"country_gov_type_unique.xls\")\n",
        "print(data_country.head(5))\n",
        "\n",
        "print(data_country.tail(5))\n",
        "\n",
        "print(data_country.columns)\n",
        "print(list(data_country))"
      ],
      "execution_count": 0,
      "outputs": [
        {
          "output_type": "stream",
          "text": [
            "           unique_id  cyear  ccode scode        country  year  flag  fragment  \\\n",
            "0  United States1946  21946      2   USA  United States  1946     0       NaN   \n",
            "1  United States1947  21947      2   USA  United States  1947     0       NaN   \n",
            "2  United States1948  21948      2   USA  United States  1948     0       NaN   \n",
            "3  United States1949  21949      2   USA  United States  1949     0       NaN   \n",
            "4  United States1950  21950      2   USA  United States  1950     0       NaN   \n",
            "\n",
            "   democ  autoc    ...     interim  bmonth  bday  byear  bprec  post  change  \\\n",
            "0     10      0    ...         NaN     NaN   NaN    NaN    NaN   NaN     NaN   \n",
            "1     10      0    ...         NaN     NaN   NaN    NaN    NaN   NaN     NaN   \n",
            "2     10      0    ...         NaN     NaN   NaN    NaN    NaN   NaN     NaN   \n",
            "3     10      0    ...         NaN     NaN   NaN    NaN    NaN   NaN     NaN   \n",
            "4     10      0    ...         NaN     NaN   NaN    NaN    NaN   NaN     NaN   \n",
            "\n",
            "   d4  sf  regtrans  \n",
            "0 NaN NaN       NaN  \n",
            "1 NaN NaN       NaN  \n",
            "2 NaN NaN       NaN  \n",
            "3 NaN NaN       NaN  \n",
            "4 NaN NaN       NaN  \n",
            "\n",
            "[5 rows x 37 columns]\n",
            "     unique_id    cyear  ccode scode country  year  flag  fragment  democ  \\\n",
            "9790  Fiji2013  9502013    950   FJI    Fiji  2013     0       0.0      0   \n",
            "9791  Fiji2014  9502014    950   FJI    Fiji  2014     1       0.0      3   \n",
            "9792  Fiji2015  9502015    950   FJI    Fiji  2015     1       0.0      3   \n",
            "9793  Fiji2016  9502016    950   FJI    Fiji  2016     1       0.0      3   \n",
            "9794  Fiji2017  9502017    950   FJI    Fiji  2017     1       0.0      3   \n",
            "\n",
            "      autoc    ...     interim  bmonth  bday   byear  bprec  post  change  \\\n",
            "9790      4    ...         NaN     NaN   NaN     NaN    NaN   NaN     NaN   \n",
            "9791      1    ...         NaN     9.0  22.0  2014.0    1.0   2.0     6.0   \n",
            "9792      1    ...         NaN     NaN   NaN     NaN    NaN   NaN     NaN   \n",
            "9793      1    ...         NaN     NaN   NaN     NaN    NaN   NaN     NaN   \n",
            "9794      1    ...         NaN     NaN   NaN     NaN    NaN   NaN     NaN   \n",
            "\n",
            "       d4  sf  regtrans  \n",
            "9790  NaN NaN       NaN  \n",
            "9791  1.0 NaN       3.0  \n",
            "9792  NaN NaN       NaN  \n",
            "9793  NaN NaN       NaN  \n",
            "9794  NaN NaN       NaN  \n",
            "\n",
            "[5 rows x 37 columns]\n",
            "Index(['unique_id', 'cyear', 'ccode', 'scode', 'country', 'year', 'flag',\n",
            "       'fragment', 'democ', 'autoc', 'polity', 'polity2', 'durable', 'xrreg',\n",
            "       'xrcomp', 'xropen', 'xconst', 'parreg', 'parcomp', 'exrec', 'exconst',\n",
            "       'polcomp', 'prior', 'emonth', 'eday', 'eyear', 'eprec', 'interim',\n",
            "       'bmonth', 'bday', 'byear', 'bprec', 'post', 'change', 'd4', 'sf',\n",
            "       'regtrans'],\n",
            "      dtype='object')\n",
            "['unique_id', 'cyear', 'ccode', 'scode', 'country', 'year', 'flag', 'fragment', 'democ', 'autoc', 'polity', 'polity2', 'durable', 'xrreg', 'xrcomp', 'xropen', 'xconst', 'parreg', 'parcomp', 'exrec', 'exconst', 'polcomp', 'prior', 'emonth', 'eday', 'eyear', 'eprec', 'interim', 'bmonth', 'bday', 'byear', 'bprec', 'post', 'change', 'd4', 'sf', 'regtrans']\n"
          ],
          "name": "stdout"
        }
      ]
    },
    {
      "metadata": {
        "id": "fZ5nrSlG2I1-",
        "colab_type": "code",
        "outputId": "c86353e1-2677-498a-c6c8-0e0718004fc1",
        "colab": {
          "base_uri": "https://localhost:8080/",
          "height": 1003
        }
      },
      "cell_type": "code",
      "source": [
        "#printing one instance of each dataset to ensure they are coming through ok...\n",
        "print(data_aid.loc[2500])\n",
        "print(data_prez.loc[60])\n",
        "print(data_country.loc[1010])"
      ],
      "execution_count": 0,
      "outputs": [
        {
          "output_type": "stream",
          "text": [
            "unique_id                               Colombia1955\n",
            "country_code                                     COL\n",
            "country_name                                Colombia\n",
            "region_id                                          6\n",
            "region_name                       Western Hemisphere\n",
            "income_group_acronym                            UMIC\n",
            "income_group_name        Upper Middle Income Country\n",
            "transaction_type_id                                2\n",
            "transaction_type_name                    Obligations\n",
            "year                                            1955\n",
            "current_amount                               9199000\n",
            "constant_amount                             67417573\n",
            "Name: 2500, dtype: object\n",
            "President              George Bush/Bill Clinton\n",
            "Year                                       1993\n",
            "Age at inauguration                         NaN\n",
            "Political Party             Republican/Democrat\n",
            "Occupation                                  NaN\n",
            "College                                     NaN\n",
            "Name: 60, dtype: object\n",
            "unique_id    Colombia1977\n",
            "cyear             1001977\n",
            "ccode                 100\n",
            "scode                 COL\n",
            "country          Colombia\n",
            "year                 1977\n",
            "flag                    0\n",
            "fragment              NaN\n",
            "democ                   8\n",
            "autoc                   0\n",
            "polity                  8\n",
            "polity2                 8\n",
            "durable                20\n",
            "xrreg                   3\n",
            "xrcomp                  3\n",
            "xropen                  4\n",
            "xconst                  6\n",
            "parreg                  2\n",
            "parcomp                 4\n",
            "exrec                   8\n",
            "exconst                 6\n",
            "polcomp                 9\n",
            "prior                 NaN\n",
            "emonth                NaN\n",
            "eday                  NaN\n",
            "eyear                 NaN\n",
            "eprec                 NaN\n",
            "interim               NaN\n",
            "bmonth                NaN\n",
            "bday                  NaN\n",
            "byear                 NaN\n",
            "bprec                 NaN\n",
            "post                  NaN\n",
            "change                NaN\n",
            "d4                    NaN\n",
            "sf                    NaN\n",
            "regtrans              NaN\n",
            "Name: 1010, dtype: object\n"
          ],
          "name": "stdout"
        }
      ]
    },
    {
      "metadata": {
        "id": "8yjxsKnm26WD",
        "colab_type": "code",
        "outputId": "241142a1-4880-4df6-bb50-acc02218a6f1",
        "colab": {
          "base_uri": "https://localhost:8080/",
          "height": 268
        }
      },
      "cell_type": "code",
      "source": [
        "#printing my variable lists to see what I have for merge\n",
        "print(list(data_prez))\n",
        "print(list(data_aid))\n",
        "print(list(data_country))\n",
        "\n"
      ],
      "execution_count": 0,
      "outputs": [
        {
          "output_type": "stream",
          "text": [
            "['President', 'Year', 'Age at inauguration', 'Political Party', 'Occupation', 'College']\n",
            "['unique_id', 'country_code', 'country_name', 'region_id', 'region_name', 'income_group_acronym', 'income_group_name', 'transaction_type_id', 'transaction_type_name', 'year', 'current_amount', 'constant_amount']\n",
            "['unique_id', 'cyear', 'ccode', 'scode', 'country', 'year', 'flag', 'fragment', 'democ', 'autoc', 'polity', 'polity2', 'durable', 'xrreg', 'xrcomp', 'xropen', 'xconst', 'parreg', 'parcomp', 'exrec', 'exconst', 'polcomp', 'prior', 'emonth', 'eday', 'eyear', 'eprec', 'interim', 'bmonth', 'bday', 'byear', 'bprec', 'post', 'change', 'd4', 'sf', 'regtrans']\n"
          ],
          "name": "stdout"
        }
      ]
    },
    {
      "metadata": {
        "id": "pQUi6M5v6D9w",
        "colab_type": "code",
        "outputId": "364b544d-fcab-4191-abf6-7ae48bce0903",
        "colab": {
          "base_uri": "https://localhost:8080/",
          "height": 94
        }
      },
      "cell_type": "code",
      "source": [
        "#found that the 'Year' column in my president data was uppercase so I'm renaming it to match the other two sets\n",
        "data_prez=data_prez.rename(columns = {'Year':'year'})\n",
        "print(list(data_prez))"
      ],
      "execution_count": 0,
      "outputs": [
        {
          "output_type": "stream",
          "text": [
            "['President', 'year', 'Age at inauguration', 'Political Party', 'Occupation', 'College']\n"
          ],
          "name": "stdout"
        }
      ]
    },
    {
      "metadata": {
        "id": "qh9rrUG73jcx",
        "colab_type": "code",
        "outputId": "9de6cd5a-f92c-421b-a30c-2c51d014a643",
        "colab": {
          "base_uri": "https://localhost:8080/",
          "height": 340
        }
      },
      "cell_type": "code",
      "source": [
        "#selecting pertinent columns from my aid and my country polity data\n",
        "\n",
        "data_aid_new = data_aid[[\"unique_id\", \"country_name\", \"region_name\", \"income_group_name\", \"transaction_type_name\", \"current_amount\"]]\n",
        "print(data_aid_new.head())\n",
        "\n",
        "data_country_new = data_country[[\"unique_id\", \"country\", \"year\", \"democ\", \"autoc\", \"polity\", \"polity2\"]]\n",
        "print(data_country_new.sample(5))\n",
        "\n"
      ],
      "execution_count": 0,
      "outputs": [
        {
          "output_type": "stream",
          "text": [
            "   unique_id country_name         region_name    income_group_name  \\\n",
            "0  Aruba1999        Aruba  Western Hemisphere  High Income Country   \n",
            "1  Aruba2000        Aruba  Western Hemisphere  High Income Country   \n",
            "2  Aruba2004        Aruba  Western Hemisphere  High Income Country   \n",
            "3  Aruba2005        Aruba  Western Hemisphere  High Income Country   \n",
            "4  Aruba2006        Aruba  Western Hemisphere  High Income Country   \n",
            "\n",
            "  transaction_type_name  current_amount  \n",
            "0           Obligations           19000  \n",
            "1           Obligations           50000  \n",
            "2           Obligations            1000  \n",
            "3           Obligations           29270  \n",
            "4           Obligations            1000  \n",
            "             unique_id       country  year  democ  autoc  polity  polity2\n",
            "8478         Japan2012         Japan  2012     10      0      10     10.0\n",
            "5253          Chad1984          Chad  1984    -88    -88     -88     -4.0\n",
            "3011       Albania2012       Albania  2012      9      0       9      9.0\n",
            "8937         Nepal2002         Nepal  2002      1      7      -6     -6.0\n",
            "4861  Sierra Leone1998  Sierra Leone  1998    -77    -77     -77      0.0\n"
          ],
          "name": "stdout"
        }
      ]
    },
    {
      "metadata": {
        "id": "Zw2q7sj_39zL",
        "colab_type": "code",
        "outputId": "dc7c439f-9428-45ca-95c4-ebb2d2fcb647",
        "colab": {
          "base_uri": "https://localhost:8080/",
          "height": 397
        }
      },
      "cell_type": "code",
      "source": [
        "#merging country polity and aid data based on the unique_id column which I created in excel using a concatenation of country name+year\n",
        "data_aid_country = data_aid_new.merge(data_country_new, on=\"unique_id\", how=\"inner\")\n",
        "print(data_aid_country.sample(5))"
      ],
      "execution_count": 0,
      "outputs": [
        {
          "output_type": "stream",
          "text": [
            "            unique_id country_name            region_name  \\\n",
            "6560  New Zealand2013  New Zealand  East Asia and Oceania   \n",
            "343       Austria1949      Austria     Europe and Eurasia   \n",
            "8307         Chad2011         Chad     Sub-Saharan Africa   \n",
            "2724       France2012       France     Europe and Eurasia   \n",
            "6804       Panama2017       Panama     Western Hemisphere   \n",
            "\n",
            "                income_group_name transaction_type_name  current_amount  \\\n",
            "6560          High Income Country           Obligations           87328   \n",
            "343           High Income Country           Obligations       274200000   \n",
            "8307           Low Income Country           Obligations       152215688   \n",
            "2724          High Income Country           Obligations          225982   \n",
            "6804  Upper Middle Income Country           Obligations        26908238   \n",
            "\n",
            "          country  year  democ  autoc  polity  polity2  \n",
            "6560  New Zealand  2013     10      0      10     10.0  \n",
            "343       Austria  1949     10      0      10     10.0  \n",
            "8307         Chad  2011      1      3      -2     -2.0  \n",
            "2724       France  2012      9      0       9      9.0  \n",
            "6804       Panama  2017      9      0       9      9.0  \n"
          ],
          "name": "stdout"
        }
      ]
    },
    {
      "metadata": {
        "id": "FuAN-Trz5XKv",
        "colab_type": "code",
        "outputId": "b87f0852-b3e2-40cb-f796-2e1ecd0422e8",
        "colab": {
          "base_uri": "https://localhost:8080/",
          "height": 635
        }
      },
      "cell_type": "code",
      "source": [
        "#merging my third database on the 'year' column, looks ok so far...\n",
        "data_aid_country_prez = data_aid_country.merge(data_prez, on=\"year\", how=\"inner\")\n",
        "print(data_aid_country_prez.sample(5))"
      ],
      "execution_count": 0,
      "outputs": [
        {
          "output_type": "stream",
          "text": [
            "                unique_id     country_name                   region_name  \\\n",
            "2836          Somalia1990          Somalia            Sub-Saharan Africa   \n",
            "3194          Tunisia1993          Tunisia  Middle East and North Africa   \n",
            "198           Austria1954          Austria            Europe and Eurasia   \n",
            "4508         Pakistan2002         Pakistan        South and Central Asia   \n",
            "3813  Slovak Republic1998  Slovak Republic            Europe and Eurasia   \n",
            "\n",
            "                income_group_name transaction_type_name  current_amount  \\\n",
            "2836           Low Income Country           Obligations         5757000   \n",
            "3194  Lower Middle Income Country           Obligations        24968603   \n",
            "198           High Income Country           Obligations               0   \n",
            "4508  Lower Middle Income Country         Disbursements       798067788   \n",
            "3813          High Income Country           Obligations        17026548   \n",
            "\n",
            "              country  year  democ  autoc  polity  polity2  \\\n",
            "2836          Somalia  1990      0      7      -7     -7.0   \n",
            "3194          Tunisia  1993      1      4      -3     -3.0   \n",
            "198           Austria  1954     10      0      10     10.0   \n",
            "4508         Pakistan  2002      0      5      -5     -5.0   \n",
            "3813  Slovak Republic  1998      9      0       9      9.0   \n",
            "\n",
            "                     President  Age at inauguration      Political Party  \\\n",
            "2836               George Bush                 64.0           Republican   \n",
            "3194  George Bush/Bill Clinton                  NaN  Republican/Democrat   \n",
            "198       Dwight D. Eisenhower                 62.0           Republican   \n",
            "4508            George W. Bush                 54.0           Republican   \n",
            "3813              Bill Clinton                 46.0             Democrat   \n",
            "\n",
            "       Occupation              College  \n",
            "2836  Businessman                 Yale  \n",
            "3194          NaN                  NaN  \n",
            "198       Soldier  US Military Academy  \n",
            "4508  Businessman                 Yale  \n",
            "3813       Lawyer           Georgetown  \n"
          ],
          "name": "stdout"
        }
      ]
    },
    {
      "metadata": {
        "id": "qZWNKc3D51Ba",
        "colab_type": "code",
        "colab": {}
      },
      "cell_type": "code",
      "source": [
        ""
      ],
      "execution_count": 0,
      "outputs": []
    }
  ]
}